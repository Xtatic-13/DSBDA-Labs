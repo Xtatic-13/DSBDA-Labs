{
 "cells": [
  {
   "cell_type": "code",
   "execution_count": 1,
   "id": "2c3ea50e",
   "metadata": {},
   "outputs": [],
   "source": [
    "import requests\n",
    "from bs4 import BeautifulSoup"
   ]
  },
  {
   "cell_type": "code",
   "execution_count": 2,
   "id": "24512430",
   "metadata": {},
   "outputs": [],
   "source": [
    "URL=\"https://www.amazon.in/Dell-Inspiron-Non-Touch-Backlit-Keyboard/product-reviews/B00XQXZLZ2\"\n",
    "req=requests.get(URL)\n",
    "soup = BeautifulSoup(req.content, \"html.parser\")"
   ]
  },
  {
   "cell_type": "code",
   "execution_count": 3,
   "id": "79c0aa00",
   "metadata": {},
   "outputs": [
    {
     "data": {
      "text/plain": [
       "'Dell Inspiron 15R 5558 Laptop (5Th Gen I5, 8Gb Ram, 1Tb HDD, 15.6\"...'"
      ]
     },
     "execution_count": 3,
     "metadata": {},
     "output_type": "execute_result"
    }
   ],
   "source": [
    "product_title = soup.find('a', class_ = \"a-link-normal\").text.strip()\n",
    "product_title"
   ]
  },
  {
   "cell_type": "code",
   "execution_count": 4,
   "id": "f3694de4",
   "metadata": {},
   "outputs": [],
   "source": [
    "review_elements= soup.find_all('div', class_ = \"review\")"
   ]
  },
  {
   "cell_type": "code",
   "execution_count": 9,
   "id": "1a08323e",
   "metadata": {},
   "outputs": [
    {
     "name": "stdout",
     "output_type": "stream",
     "text": [
      "Rating:4.0 out of 5 stars\n",
      "Title:<span>wonderful and versatile</span>\n",
      "Review:Having disposed off my old HCL laptop of 2009 vintage, I was quite restless without one for a long time. This machine is Fast, wonderful and versatile. I am still to master the features which are like never ending ones. As a retired senior citizen I find it a very good company along with my wife and a few good friends.\n",
      "Reviewer:Placeholder\n",
      "Date:Reviewed in India on 23 December 2015\n",
      "\n",
      "------------------------------------------------------------------------------------------\n",
      "Rating:3.0 out of 5 stars\n",
      "Title:<span>Too many issues mars impression of Dell Laptop</span>\n",
      "Review:I bought this laptop 3 years back and am facing several issues1. Durability: I have an old Dell Laptop for last 10 years , but the Inspiron purchase in last 3 years has shaken my confidence in Dell.2. Keyboard: I had to twice change my keyboard for 2600INR each.3. Dell display cable is faulty hence you can position laptop in a particular position only. In other position screen blinks.4. I had to change the laptop charger and now the battery is giving end of life (after 3 years!!!!) message.5. Performance - It does not run even simple programs - I had to replace RAM to improve performance.\n",
      "Reviewer:Amazon Customer\n",
      "Date:Reviewed in India on 18 November 2015\n",
      "\n",
      "------------------------------------------------------------------------------------------\n",
      "Rating:1.0 out of 5 stars\n",
      "Title:<span>Will never buy laptop online. Very poor support.</span>\n",
      "Review:I would never buy a laptop online again. The service is very poor. The start button got stuck within 1 year ( which was within the warranty period) and when I contacted amazon, they asked me to contact DELL. When I contacted DELL they told the warranty had expired, even though it was less than one year since I purchased the laptop. They wanted amazon to go and RESET something on their system. A long sequence of phone calls happened.Basically Amazon and DELL were passing the responsibility to each other. Amazon offered to get back to me but NEVER did. I did not bother them after that as it was my work laptop and I needed it urgently. So, I got someone else to fix it. Unfortunately, the button is stuck again and I was told that this is a common problem with this model. I am not sure how true it is, but the gist of it that you do not get any support when things go wrong with your laptop.\n",
      "Reviewer:Kavitha\n",
      "Date:Reviewed in India on 28 April 2017\n",
      "\n",
      "------------------------------------------------------------------------------------------\n",
      "Rating:5.0 out of 5 stars\n",
      "Title:<span>Five Stars</span>\n",
      "Review:Nice product for this priceAll in one\n",
      "Reviewer:Amazon customer\n",
      "Date:Reviewed in India on 3 January 2016\n",
      "\n",
      "------------------------------------------------------------------------------------------\n",
      "Rating:4.0 out of 5 stars\n",
      "Title:<span>Good one!</span>\n",
      "Review:As per specification provided, its okay. But remember there is no dedicated graphic, only inbuilt system graphic of Intel.\n",
      "Reviewer:Premanand\n",
      "Date:Reviewed in India on 12 November 2015\n",
      "\n",
      "------------------------------------------------------------------------------------------\n",
      "Rating:4.0 out of 5 stars\n",
      "Title:<span>Four Stars</span>\n",
      "Review:Its a good product but i need an invoice or bill. Very urgent. What to do.?\n",
      "Reviewer:Srijit Maitra\n",
      "Date:Reviewed in India on 8 February 2016\n",
      "\n",
      "------------------------------------------------------------------------------------------\n",
      "Rating:3.0 out of 5 stars\n",
      "Title:<span>Its OK</span>\n",
      "Review:It was OK I am satisfied\n",
      "Reviewer:Amazon Customer\n",
      "Date:Reviewed in India on 22 March 2019\n",
      "\n",
      "------------------------------------------------------------------------------------------\n",
      "Rating:1.0 out of 5 stars\n",
      "Title:<span>After sale support is pathetic. It has been a big learning for us</span>\n",
      "Review:Business Users shouldn't buy these laptops. After sale support is pathetic. It has been a big learning for us. The concept of cheap laptops online is a myth. It is better to procure the laptops directly from manufacturer under appropriate warranty cover. Buying from re-sellers is a big challenge managing it over the life of product.\n",
      "Reviewer:Virtuous Transactional Analytics Pvt Ltd\n",
      "Date:Reviewed in India on 29 February 2016\n",
      "\n",
      "------------------------------------------------------------------------------------------\n",
      "Rating:4.0 out of 5 stars\n",
      "Title:<span>Rest all is fine with the laptop</span>\n",
      "Review:It hangs sometime. Rest all is fine with the laptop.\n",
      "Reviewer:Amazon Customer\n",
      "Date:Reviewed in India on 28 November 2015\n",
      "\n",
      "------------------------------------------------------------------------------------------\n",
      "Rating:4.0 out of 5 stars\n",
      "Title:<span>Four Stars</span>\n",
      "Review:working till now\n",
      "Reviewer:harvir s.\n",
      "Date:Reviewed in India on 21 February 2017\n",
      "\n",
      "------------------------------------------------------------------------------------------\n"
     ]
    }
   ],
   "source": [
    "for element in review_elements:\n",
    "    review_title = element.find('span', class_ = 'a-letter-space').find_next_sibling()\n",
    "    review_rating = element.find('span', class_ = 'a-icon-alt').text.strip()\n",
    "    reviewer = element.find('span', class_ = 'a-profile-name').text.strip()\n",
    "    review_date = element.find('span', class_ = 'review-date').text.strip()\n",
    "    review_text = element.find('span', class_ = 'review-text').text.strip()\n",
    "    print(f\"Rating:{review_rating}\\nTitle:{review_title}\\nReview:{review_text}\\nReviewer:{reviewer}\\nDate:{review_date}\\n\")\n",
    "    print(\"------------------------------------------------------------------------------------------\")"
   ]
  },
  {
   "cell_type": "code",
   "execution_count": null,
   "id": "4cd2e21c",
   "metadata": {},
   "outputs": [],
   "source": []
  }
 ],
 "metadata": {
  "kernelspec": {
   "display_name": "Python 3 (ipykernel)",
   "language": "python",
   "name": "python3"
  },
  "language_info": {
   "codemirror_mode": {
    "name": "ipython",
    "version": 3
   },
   "file_extension": ".py",
   "mimetype": "text/x-python",
   "name": "python",
   "nbconvert_exporter": "python",
   "pygments_lexer": "ipython3",
   "version": "3.11.5"
  }
 },
 "nbformat": 4,
 "nbformat_minor": 5
}
